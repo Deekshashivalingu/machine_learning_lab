{
  "nbformat": 4,
  "nbformat_minor": 0,
  "metadata": {
    "colab": {
      "name": "neuralnetworks",
      "provenance": [],
      "collapsed_sections": [],
      "include_colab_link": true
    },
    "kernelspec": {
      "name": "python3",
      "display_name": "Python 3"
    }
  },
  "cells": [
    {
      "cell_type": "markdown",
      "metadata": {
        "id": "view-in-github",
        "colab_type": "text"
      },
      "source": [
        "<a href=\"https://colab.research.google.com/github/Deekshashivalingu/machine_learning_lab/blob/master/neuralnetworks.ipynb\" target=\"_parent\"><img src=\"https://colab.research.google.com/assets/colab-badge.svg\" alt=\"Open In Colab\"/></a>"
      ]
    },
    {
      "cell_type": "code",
      "metadata": {
        "id": "o5R22o7Weqys",
        "colab_type": "code",
        "outputId": "2d25fd99-2a6f-4ec4-f0f8-65bf064a3119",
        "colab": {
          "base_uri": "https://localhost:8080/",
          "height": 119
        }
      },
      "source": [
        "import numpy as np\n",
        "x=np.array(([2,9],[1,5],[3,6]), dtype=float)\n",
        "y = np.array(([92],[86],[89]), dtype=float)\n",
        "#print(X),k\n",
        "deno=np.amax(x,axis=0)\n",
        "#print(aa)\n",
        "x=x/deno\n",
        "y=y/100\n",
        "print(x)\n",
        "print(y)"
      ],
      "execution_count": 0,
      "outputs": [
        {
          "output_type": "stream",
          "text": [
            "[[0.66666667 1.        ]\n",
            " [0.33333333 0.55555556]\n",
            " [1.         0.66666667]]\n",
            "[[0.92]\n",
            " [0.86]\n",
            " [0.89]]\n"
          ],
          "name": "stdout"
        }
      ]
    },
    {
      "cell_type": "code",
      "metadata": {
        "id": "Non2E_8Tf8KU",
        "colab_type": "code",
        "colab": {}
      },
      "source": [
        "#Sigmoid function\n",
        "def sigmoid(x):\n",
        "  return 1/(1+np.exp(-x))"
      ],
      "execution_count": 0,
      "outputs": []
    },
    {
      "cell_type": "code",
      "metadata": {
        "id": "B5wxabvqhXhj",
        "colab_type": "code",
        "colab": {}
      },
      "source": [
        "#derivative of sigmoid function\n",
        "def derivatives_sigmoid(x):  #[0.84,0.76,0.78]\n",
        "  return x * (1 - x)"
      ],
      "execution_count": 0,
      "outputs": []
    },
    {
      "cell_type": "code",
      "metadata": {
        "id": "tMulK8LFhrOE",
        "colab_type": "code",
        "colab": {}
      },
      "source": [
        "#variable initialization\n",
        "iteration=1000  #setting training iterations\n",
        "error_rate = 0.1  #setting learning rate-error rate\n",
        "inputlayer_neurons=2 #number of features in data set\n",
        "hiddenlayer_neurons=3 #number of hidden layers neurons\n",
        "output_neurons=1  #number of neurons at output layer"
      ],
      "execution_count": 0,
      "outputs": []
    },
    {
      "cell_type": "code",
      "metadata": {
        "id": "TtW4_EumiRi8",
        "colab_type": "code",
        "colab": {}
      },
      "source": [
        "weight_hidden=np.random.uniform(size=(inputlayer_neurons,hiddenlayer_neurons))\n",
        "#print(weight_hidden)\n",
        "bias_hidden=np.random.uniform(size=(1,hiddenlayer_neurons))\n",
        "#print(\"bias value\",bias_hidden)\n",
        "weight_output=np.random.uniform(size=(hiddenlayer_neurons,output_neurons))\n",
        "bias_output=np.random.uniform(size=(1,output_neurons))"
      ],
      "execution_count": 0,
      "outputs": []
    },
    {
      "cell_type": "code",
      "metadata": {
        "id": "OGpLXdFejNOe",
        "colab_type": "code",
        "outputId": "b07fad7e-40ab-4972-d8f0-171b52d63f8a",
        "colab": {
          "base_uri": "https://localhost:8080/",
          "height": 221
        }
      },
      "source": [
        "for i in range(iteration):\n",
        "  hidden_input=np.dot(x,weight_hidden)  #h1=w1*x1+w2*x2+w3x3\n",
        "  hidden_input=hidden_input + bias_hidden\n",
        "  output_hidden_layer=sigmoid(hidden_input)\n",
        "  #print(output_hidden_layer)\n",
        "  actual_output=np.dot(output_hidden_layer,weight_output)+bias_output\n",
        "  y_output=sigmoid(actual_output)\n",
        "  #print(\"predicted output\",y_output)\n",
        "  \n",
        "  #backpropagation\n",
        "  EO=y-y_output\n",
        "  outgrad=derivatives_sigmoid(y_output)\n",
        "  d_output=EO*outgrad\n",
        "  EH=d_output.dot(weight_output.T)\n",
        "  hiddengrad=derivatives_sigmoid(output_hidden_layer)\n",
        "  d_hiddenlayer=EH*hiddengrad\n",
        "  \n",
        "  weight_output+=output_hidden_layer.T.dot(d_output)*error_rate\n",
        "  weight_hidden+=x.T.dot(d_hiddenlayer)*error_rate\n",
        "  \n",
        "print(\"Input: \\n\"+str(x))\n",
        "print(\"Actual output: \\n\"+str(y))\n",
        "print(\"Predicted output: \\n\",y_output)"
      ],
      "execution_count": 0,
      "outputs": [
        {
          "output_type": "stream",
          "text": [
            "Input: \n",
            "[[0.66666667 1.        ]\n",
            " [0.33333333 0.55555556]\n",
            " [1.         0.66666667]]\n",
            "Actual output: \n",
            "[[0.92]\n",
            " [0.86]\n",
            " [0.89]]\n",
            "Predicted output: \n",
            " [[0.89466619]\n",
            " [0.87867618]\n",
            " [0.89594816]]\n"
          ],
          "name": "stdout"
        }
      ]
    }
  ]
}