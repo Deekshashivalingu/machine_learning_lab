{
  "nbformat": 4,
  "nbformat_minor": 0,
  "metadata": {
    "colab": {
      "name": "Copy of naive_bayes.ipynb",
      "provenance": [],
      "collapsed_sections": [],
      "include_colab_link": true
    },
    "kernelspec": {
      "name": "python3",
      "display_name": "Python 3"
    }
  },
  "cells": [
    {
      "cell_type": "markdown",
      "metadata": {
        "id": "view-in-github",
        "colab_type": "text"
      },
      "source": [
        "<a href=\"https://colab.research.google.com/github/Deekshashivalingu/machine_learning_lab/blob/master/Copy_of_naive_bayes.ipynb\" target=\"_parent\"><img src=\"https://colab.research.google.com/assets/colab-badge.svg\" alt=\"Open In Colab\"/></a>"
      ]
    },
    {
      "cell_type": "code",
      "metadata": {
        "id": "QN6_6T5obvj0",
        "colab_type": "code",
        "colab": {}
      },
      "source": [
        "import pandas as pd\n",
        "from pandas import DataFrame"
      ],
      "execution_count": 0,
      "outputs": []
    },
    {
      "cell_type": "code",
      "metadata": {
        "id": "u1yZ1qk_cSbU",
        "colab_type": "code",
        "outputId": "5a95e6d3-4552-4959-aded-7a758bc1d7b0",
        "colab": {
          "base_uri": "https://localhost:8080/",
          "height": 568
        }
      },
      "source": [
        "db_golf=DataFrame.from_csv(\"/content/weather.csv\")\n",
        "db_golf"
      ],
      "execution_count": 0,
      "outputs": [
        {
          "output_type": "stream",
          "text": [
            "/usr/local/lib/python3.6/dist-packages/ipykernel_launcher.py:1: FutureWarning: from_csv is deprecated. Please use read_csv(...) instead. Note that some of the default arguments are different, so please refer to the documentation for from_csv when changing your function calls\n",
            "  \"\"\"Entry point for launching an IPython kernel.\n"
          ],
          "name": "stderr"
        },
        {
          "output_type": "execute_result",
          "data": {
            "text/html": [
              "<div>\n",
              "<style scoped>\n",
              "    .dataframe tbody tr th:only-of-type {\n",
              "        vertical-align: middle;\n",
              "    }\n",
              "\n",
              "    .dataframe tbody tr th {\n",
              "        vertical-align: top;\n",
              "    }\n",
              "\n",
              "    .dataframe thead th {\n",
              "        text-align: right;\n",
              "    }\n",
              "</style>\n",
              "<table border=\"1\" class=\"dataframe\">\n",
              "  <thead>\n",
              "    <tr style=\"text-align: right;\">\n",
              "      <th></th>\n",
              "      <th>outlook</th>\n",
              "      <th>temperature</th>\n",
              "      <th>humidity</th>\n",
              "      <th>wind</th>\n",
              "      <th>play</th>\n",
              "    </tr>\n",
              "    <tr>\n",
              "      <th>id</th>\n",
              "      <th></th>\n",
              "      <th></th>\n",
              "      <th></th>\n",
              "      <th></th>\n",
              "      <th></th>\n",
              "    </tr>\n",
              "  </thead>\n",
              "  <tbody>\n",
              "    <tr>\n",
              "      <th>1</th>\n",
              "      <td>sunny</td>\n",
              "      <td>hot</td>\n",
              "      <td>high</td>\n",
              "      <td>weak</td>\n",
              "      <td>no</td>\n",
              "    </tr>\n",
              "    <tr>\n",
              "      <th>2</th>\n",
              "      <td>sunny</td>\n",
              "      <td>hot</td>\n",
              "      <td>high</td>\n",
              "      <td>strong</td>\n",
              "      <td>no</td>\n",
              "    </tr>\n",
              "    <tr>\n",
              "      <th>3</th>\n",
              "      <td>overcast</td>\n",
              "      <td>hot</td>\n",
              "      <td>high</td>\n",
              "      <td>weak</td>\n",
              "      <td>yes</td>\n",
              "    </tr>\n",
              "    <tr>\n",
              "      <th>4</th>\n",
              "      <td>rainy</td>\n",
              "      <td>mild</td>\n",
              "      <td>high</td>\n",
              "      <td>weak</td>\n",
              "      <td>yes</td>\n",
              "    </tr>\n",
              "    <tr>\n",
              "      <th>5</th>\n",
              "      <td>rainy</td>\n",
              "      <td>cool</td>\n",
              "      <td>normal</td>\n",
              "      <td>weak</td>\n",
              "      <td>yes</td>\n",
              "    </tr>\n",
              "    <tr>\n",
              "      <th>6</th>\n",
              "      <td>rainy</td>\n",
              "      <td>cool</td>\n",
              "      <td>normal</td>\n",
              "      <td>strong</td>\n",
              "      <td>no</td>\n",
              "    </tr>\n",
              "    <tr>\n",
              "      <th>7</th>\n",
              "      <td>overcast</td>\n",
              "      <td>cool</td>\n",
              "      <td>normal</td>\n",
              "      <td>strong</td>\n",
              "      <td>yes</td>\n",
              "    </tr>\n",
              "    <tr>\n",
              "      <th>8</th>\n",
              "      <td>sunny</td>\n",
              "      <td>mild</td>\n",
              "      <td>high</td>\n",
              "      <td>weak</td>\n",
              "      <td>no</td>\n",
              "    </tr>\n",
              "    <tr>\n",
              "      <th>9</th>\n",
              "      <td>sunny</td>\n",
              "      <td>cool</td>\n",
              "      <td>normal</td>\n",
              "      <td>weak</td>\n",
              "      <td>yes</td>\n",
              "    </tr>\n",
              "    <tr>\n",
              "      <th>10</th>\n",
              "      <td>rainy</td>\n",
              "      <td>mild</td>\n",
              "      <td>normal</td>\n",
              "      <td>weak</td>\n",
              "      <td>yes</td>\n",
              "    </tr>\n",
              "    <tr>\n",
              "      <th>11</th>\n",
              "      <td>sunny</td>\n",
              "      <td>mild</td>\n",
              "      <td>normal</td>\n",
              "      <td>strong</td>\n",
              "      <td>yes</td>\n",
              "    </tr>\n",
              "    <tr>\n",
              "      <th>12</th>\n",
              "      <td>overcast</td>\n",
              "      <td>mild</td>\n",
              "      <td>high</td>\n",
              "      <td>strong</td>\n",
              "      <td>yes</td>\n",
              "    </tr>\n",
              "    <tr>\n",
              "      <th>13</th>\n",
              "      <td>overcast</td>\n",
              "      <td>hot</td>\n",
              "      <td>normal</td>\n",
              "      <td>weak</td>\n",
              "      <td>yes</td>\n",
              "    </tr>\n",
              "    <tr>\n",
              "      <th>14</th>\n",
              "      <td>rainy</td>\n",
              "      <td>mild</td>\n",
              "      <td>high</td>\n",
              "      <td>strong</td>\n",
              "      <td>no</td>\n",
              "    </tr>\n",
              "  </tbody>\n",
              "</table>\n",
              "</div>"
            ],
            "text/plain": [
              "     outlook temperature humidity    wind play\n",
              "id                                            \n",
              "1      sunny         hot     high    weak   no\n",
              "2      sunny         hot     high  strong   no\n",
              "3   overcast         hot     high    weak  yes\n",
              "4      rainy        mild     high    weak  yes\n",
              "5      rainy        cool   normal    weak  yes\n",
              "6      rainy        cool   normal  strong   no\n",
              "7   overcast        cool   normal  strong  yes\n",
              "8      sunny        mild     high    weak   no\n",
              "9      sunny        cool   normal    weak  yes\n",
              "10     rainy        mild   normal    weak  yes\n",
              "11     sunny        mild   normal  strong  yes\n",
              "12  overcast        mild     high  strong  yes\n",
              "13  overcast         hot   normal    weak  yes\n",
              "14     rainy        mild     high  strong   no"
            ]
          },
          "metadata": {
            "tags": []
          },
          "execution_count": 115
        }
      ]
    },
    {
      "cell_type": "code",
      "metadata": {
        "id": "UcPTKVzQcvRz",
        "colab_type": "code",
        "colab": {}
      },
      "source": [
        "attribute_name=list(db_golf.columns)"
      ],
      "execution_count": 0,
      "outputs": []
    },
    {
      "cell_type": "code",
      "metadata": {
        "id": "kQXszlh0djNT",
        "colab_type": "code",
        "colab": {}
      },
      "source": [
        "attribute_name.remove('play')"
      ],
      "execution_count": 0,
      "outputs": []
    },
    {
      "cell_type": "code",
      "metadata": {
        "id": "Sbw-_ma0eIfL",
        "colab_type": "code",
        "outputId": "bd62bc58-b3be-4b09-89c1-cdbe4cbbbce5",
        "colab": {
          "base_uri": "https://localhost:8080/",
          "height": 34
        }
      },
      "source": [
        "print(\"predicting attributes:\",attribute_name)"
      ],
      "execution_count": 0,
      "outputs": [
        {
          "output_type": "stream",
          "text": [
            "predicting attributes: ['outlook', 'temperature', 'humidity', 'wind']\n"
          ],
          "name": "stdout"
        }
      ]
    },
    {
      "cell_type": "code",
      "metadata": {
        "id": "UOQ09qZBeRhz",
        "colab_type": "code",
        "colab": {}
      },
      "source": [
        "table=dict()\n",
        "priorprob=dict()"
      ],
      "execution_count": 0,
      "outputs": []
    },
    {
      "cell_type": "code",
      "metadata": {
        "id": "8exEhhpoeaAj",
        "colab_type": "code",
        "outputId": "c34f3734-5e96-4ef1-e9ac-701858cc3a35",
        "colab": {
          "base_uri": "https://localhost:8080/",
          "height": 421
        }
      },
      "source": [
        "train=db_golf.sample(frac=0.8,random_state=100)\n",
        "train"
      ],
      "execution_count": 0,
      "outputs": [
        {
          "output_type": "execute_result",
          "data": {
            "text/html": [
              "<div>\n",
              "<style scoped>\n",
              "    .dataframe tbody tr th:only-of-type {\n",
              "        vertical-align: middle;\n",
              "    }\n",
              "\n",
              "    .dataframe tbody tr th {\n",
              "        vertical-align: top;\n",
              "    }\n",
              "\n",
              "    .dataframe thead th {\n",
              "        text-align: right;\n",
              "    }\n",
              "</style>\n",
              "<table border=\"1\" class=\"dataframe\">\n",
              "  <thead>\n",
              "    <tr style=\"text-align: right;\">\n",
              "      <th></th>\n",
              "      <th>outlook</th>\n",
              "      <th>temperature</th>\n",
              "      <th>humidity</th>\n",
              "      <th>wind</th>\n",
              "      <th>play</th>\n",
              "    </tr>\n",
              "    <tr>\n",
              "      <th>id</th>\n",
              "      <th></th>\n",
              "      <th></th>\n",
              "      <th></th>\n",
              "      <th></th>\n",
              "      <th></th>\n",
              "    </tr>\n",
              "  </thead>\n",
              "  <tbody>\n",
              "    <tr>\n",
              "      <th>12</th>\n",
              "      <td>overcast</td>\n",
              "      <td>mild</td>\n",
              "      <td>high</td>\n",
              "      <td>strong</td>\n",
              "      <td>yes</td>\n",
              "    </tr>\n",
              "    <tr>\n",
              "      <th>13</th>\n",
              "      <td>overcast</td>\n",
              "      <td>hot</td>\n",
              "      <td>normal</td>\n",
              "      <td>weak</td>\n",
              "      <td>yes</td>\n",
              "    </tr>\n",
              "    <tr>\n",
              "      <th>6</th>\n",
              "      <td>rainy</td>\n",
              "      <td>cool</td>\n",
              "      <td>normal</td>\n",
              "      <td>strong</td>\n",
              "      <td>no</td>\n",
              "    </tr>\n",
              "    <tr>\n",
              "      <th>2</th>\n",
              "      <td>sunny</td>\n",
              "      <td>hot</td>\n",
              "      <td>high</td>\n",
              "      <td>strong</td>\n",
              "      <td>no</td>\n",
              "    </tr>\n",
              "    <tr>\n",
              "      <th>10</th>\n",
              "      <td>rainy</td>\n",
              "      <td>mild</td>\n",
              "      <td>normal</td>\n",
              "      <td>weak</td>\n",
              "      <td>yes</td>\n",
              "    </tr>\n",
              "    <tr>\n",
              "      <th>5</th>\n",
              "      <td>rainy</td>\n",
              "      <td>cool</td>\n",
              "      <td>normal</td>\n",
              "      <td>weak</td>\n",
              "      <td>yes</td>\n",
              "    </tr>\n",
              "    <tr>\n",
              "      <th>7</th>\n",
              "      <td>overcast</td>\n",
              "      <td>cool</td>\n",
              "      <td>normal</td>\n",
              "      <td>strong</td>\n",
              "      <td>yes</td>\n",
              "    </tr>\n",
              "    <tr>\n",
              "      <th>3</th>\n",
              "      <td>overcast</td>\n",
              "      <td>hot</td>\n",
              "      <td>high</td>\n",
              "      <td>weak</td>\n",
              "      <td>yes</td>\n",
              "    </tr>\n",
              "    <tr>\n",
              "      <th>1</th>\n",
              "      <td>sunny</td>\n",
              "      <td>hot</td>\n",
              "      <td>high</td>\n",
              "      <td>weak</td>\n",
              "      <td>no</td>\n",
              "    </tr>\n",
              "    <tr>\n",
              "      <th>11</th>\n",
              "      <td>sunny</td>\n",
              "      <td>mild</td>\n",
              "      <td>normal</td>\n",
              "      <td>strong</td>\n",
              "      <td>yes</td>\n",
              "    </tr>\n",
              "    <tr>\n",
              "      <th>8</th>\n",
              "      <td>sunny</td>\n",
              "      <td>mild</td>\n",
              "      <td>high</td>\n",
              "      <td>weak</td>\n",
              "      <td>no</td>\n",
              "    </tr>\n",
              "  </tbody>\n",
              "</table>\n",
              "</div>"
            ],
            "text/plain": [
              "     outlook temperature humidity    wind play\n",
              "id                                            \n",
              "12  overcast        mild     high  strong  yes\n",
              "13  overcast         hot   normal    weak  yes\n",
              "6      rainy        cool   normal  strong   no\n",
              "2      sunny         hot     high  strong   no\n",
              "10     rainy        mild   normal    weak  yes\n",
              "5      rainy        cool   normal    weak  yes\n",
              "7   overcast        cool   normal  strong  yes\n",
              "3   overcast         hot     high    weak  yes\n",
              "1      sunny         hot     high    weak   no\n",
              "11     sunny        mild   normal  strong  yes\n",
              "8      sunny        mild     high    weak   no"
            ]
          },
          "metadata": {
            "tags": []
          },
          "execution_count": 120
        }
      ]
    },
    {
      "cell_type": "code",
      "metadata": {
        "id": "ji12BcSuerYz",
        "colab_type": "code",
        "colab": {}
      },
      "source": [
        "test=db_golf.drop(train.index)"
      ],
      "execution_count": 0,
      "outputs": []
    },
    {
      "cell_type": "code",
      "metadata": {
        "id": "MIULjLsIe6fk",
        "colab_type": "code",
        "outputId": "84f5b91c-770d-41a7-c10b-62476b436e37",
        "colab": {
          "base_uri": "https://localhost:8080/",
          "height": 173
        }
      },
      "source": [
        "test"
      ],
      "execution_count": 0,
      "outputs": [
        {
          "output_type": "execute_result",
          "data": {
            "text/html": [
              "<div>\n",
              "<style scoped>\n",
              "    .dataframe tbody tr th:only-of-type {\n",
              "        vertical-align: middle;\n",
              "    }\n",
              "\n",
              "    .dataframe tbody tr th {\n",
              "        vertical-align: top;\n",
              "    }\n",
              "\n",
              "    .dataframe thead th {\n",
              "        text-align: right;\n",
              "    }\n",
              "</style>\n",
              "<table border=\"1\" class=\"dataframe\">\n",
              "  <thead>\n",
              "    <tr style=\"text-align: right;\">\n",
              "      <th></th>\n",
              "      <th>outlook</th>\n",
              "      <th>temperature</th>\n",
              "      <th>humidity</th>\n",
              "      <th>wind</th>\n",
              "      <th>play</th>\n",
              "    </tr>\n",
              "    <tr>\n",
              "      <th>id</th>\n",
              "      <th></th>\n",
              "      <th></th>\n",
              "      <th></th>\n",
              "      <th></th>\n",
              "      <th></th>\n",
              "    </tr>\n",
              "  </thead>\n",
              "  <tbody>\n",
              "    <tr>\n",
              "      <th>4</th>\n",
              "      <td>rainy</td>\n",
              "      <td>mild</td>\n",
              "      <td>high</td>\n",
              "      <td>weak</td>\n",
              "      <td>yes</td>\n",
              "    </tr>\n",
              "    <tr>\n",
              "      <th>9</th>\n",
              "      <td>sunny</td>\n",
              "      <td>cool</td>\n",
              "      <td>normal</td>\n",
              "      <td>weak</td>\n",
              "      <td>yes</td>\n",
              "    </tr>\n",
              "    <tr>\n",
              "      <th>14</th>\n",
              "      <td>rainy</td>\n",
              "      <td>mild</td>\n",
              "      <td>high</td>\n",
              "      <td>strong</td>\n",
              "      <td>no</td>\n",
              "    </tr>\n",
              "  </tbody>\n",
              "</table>\n",
              "</div>"
            ],
            "text/plain": [
              "   outlook temperature humidity    wind play\n",
              "id                                          \n",
              "4    rainy        mild     high    weak  yes\n",
              "9    sunny        cool   normal    weak  yes\n",
              "14   rainy        mild     high  strong   no"
            ]
          },
          "metadata": {
            "tags": []
          },
          "execution_count": 122
        }
      ]
    },
    {
      "cell_type": "code",
      "metadata": {
        "id": "kl9at5-oe_Qj",
        "colab_type": "code",
        "outputId": "ffeda645-562f-4b91-c126-c8fe2e9843cf",
        "colab": {
          "base_uri": "https://localhost:8080/",
          "height": 309
        }
      },
      "source": [
        "for attr_val,data_subset in train.groupby('play'):          #11 data => 4=no and 7=yes\n",
        "  from collections import Counter\n",
        "  valuecount=dict()\n",
        "  count=0\n",
        "  for attr_value in attribute_name:\n",
        "    cnt=Counter(x for x in data_subset[attr_value])\n",
        "    count=sum(cnt.values())\n",
        "    #print(count)\n",
        "    valuecount[attr_value]=dict(cnt)\n",
        "    print(\"valuecount\",valuecount.values())\n",
        "    print(\"counter:\",cnt)\n",
        "  table[attr_val]=valuecount\n",
        "  priorprob[attr_val]=count\n",
        "    "
      ],
      "execution_count": 0,
      "outputs": [
        {
          "output_type": "stream",
          "text": [
            "valuecount dict_values([{'rainy': 1, 'sunny': 3}])\n",
            "counter: Counter({'sunny': 3, 'rainy': 1})\n",
            "valuecount dict_values([{'rainy': 1, 'sunny': 3}, {'cool': 1, 'hot': 2, 'mild': 1}])\n",
            "counter: Counter({'hot': 2, 'cool': 1, 'mild': 1})\n",
            "valuecount dict_values([{'rainy': 1, 'sunny': 3}, {'cool': 1, 'hot': 2, 'mild': 1}, {'normal': 1, 'high': 3}])\n",
            "counter: Counter({'high': 3, 'normal': 1})\n",
            "valuecount dict_values([{'rainy': 1, 'sunny': 3}, {'cool': 1, 'hot': 2, 'mild': 1}, {'normal': 1, 'high': 3}, {'strong': 2, 'weak': 2}])\n",
            "counter: Counter({'strong': 2, 'weak': 2})\n",
            "valuecount dict_values([{'overcast': 4, 'rainy': 2, 'sunny': 1}])\n",
            "counter: Counter({'overcast': 4, 'rainy': 2, 'sunny': 1})\n",
            "valuecount dict_values([{'overcast': 4, 'rainy': 2, 'sunny': 1}, {'mild': 3, 'hot': 2, 'cool': 2}])\n",
            "counter: Counter({'mild': 3, 'hot': 2, 'cool': 2})\n",
            "valuecount dict_values([{'overcast': 4, 'rainy': 2, 'sunny': 1}, {'mild': 3, 'hot': 2, 'cool': 2}, {'high': 2, 'normal': 5}])\n",
            "counter: Counter({'normal': 5, 'high': 2})\n",
            "valuecount dict_values([{'overcast': 4, 'rainy': 2, 'sunny': 1}, {'mild': 3, 'hot': 2, 'cool': 2}, {'high': 2, 'normal': 5}, {'strong': 3, 'weak': 4}])\n",
            "counter: Counter({'weak': 4, 'strong': 3})\n"
          ],
          "name": "stdout"
        }
      ]
    },
    {
      "cell_type": "code",
      "metadata": {
        "id": "Xje7nrVvfbuc",
        "colab_type": "code",
        "colab": {}
      },
      "source": [
        "from pprint import pprint"
      ],
      "execution_count": 0,
      "outputs": []
    },
    {
      "cell_type": "code",
      "metadata": {
        "id": "Ara6BaYZiCa7",
        "colab_type": "code",
        "outputId": "e2670018-dd8c-45ff-f4bb-7ecdf5077c48",
        "colab": {
          "base_uri": "https://localhost:8080/",
          "height": 204
        }
      },
      "source": [
        "print(\"resultant table is\\n \")\n",
        "pprint(table)\n",
        "pprint(priorprob)"
      ],
      "execution_count": 0,
      "outputs": [
        {
          "output_type": "stream",
          "text": [
            "resultant table is\n",
            " \n",
            "{'no': {'humidity': {'high': 3, 'normal': 1},\n",
            "        'outlook': {'rainy': 1, 'sunny': 3},\n",
            "        'temperature': {'cool': 1, 'hot': 2, 'mild': 1},\n",
            "        'wind': {'strong': 2, 'weak': 2}},\n",
            " 'yes': {'humidity': {'high': 2, 'normal': 5},\n",
            "         'outlook': {'overcast': 4, 'rainy': 2, 'sunny': 1},\n",
            "         'temperature': {'cool': 2, 'hot': 2, 'mild': 3},\n",
            "         'wind': {'strong': 3, 'weak': 4}}}\n",
            "{'no': 4, 'yes': 7}\n"
          ],
          "name": "stdout"
        }
      ]
    },
    {
      "cell_type": "code",
      "metadata": {
        "id": "0l8HKunqiqms",
        "colab_type": "code",
        "colab": {}
      },
      "source": [
        "total_size=test['play'].count()"
      ],
      "execution_count": 0,
      "outputs": []
    },
    {
      "cell_type": "code",
      "metadata": {
        "id": "ZDYtp2o9iyNU",
        "colab_type": "code",
        "colab": {}
      },
      "source": [
        "correct_pred=0"
      ],
      "execution_count": 0,
      "outputs": []
    },
    {
      "cell_type": "code",
      "metadata": {
        "id": "3GirLUfFi2jk",
        "colab_type": "code",
        "outputId": "97f2b8e6-b57b-42c4-9740-ff74636bc576",
        "colab": {
          "base_uri": "https://localhost:8080/",
          "height": 986
        }
      },
      "source": [
        "for k,row in test.iterrows():\n",
        "  #print(k,row)\n",
        "  row_tuple=dict(row)\n",
        "  #print(row_tuple)\n",
        "  post_list=list()\n",
        "  play_list=list()\n",
        "  for play in table.keys():\n",
        "    #print(play)\n",
        "    posteriori=1.0\n",
        "    print(row_tuple.keys())\n",
        "    print(row_tuple.values())\n",
        "    for key in [x for x in row_tuple.keys() if x!='play']:\n",
        "      print(key,'play:',play)\n",
        "      attr_values=row_tuple.get(key)\n",
        "      if attr_values in table[play][key].keys():\n",
        "        countlist=table[play][key].values()\n",
        "        attrcount=table[play][key][attr_values]\n",
        "        posterior=1.0*attrcount/sum(countlist)*posteriori\n",
        "        \n",
        "    posteriori=posteriori*priorprob[play]\n",
        "    play_list.append(play)\n",
        "    post_list.append(posteriori)\n",
        "    print(play_list)\n",
        "    print(post_list)\n",
        "  maxprobind = post_list.index(max(post_list))\n",
        "  print(row_tuple['play'],\"::::\",play_list[maxprobind])\n",
        "  if row_tuple['play']==play_list[maxprobind]:\n",
        "    print(row_tuple['play'],\"::::\",play_list[maxprobind])\n",
        "    correct_pred=correct_pred+1\n",
        "    print(\"posteriori of\",play,\" is:\",posteriori)\n",
        "    \n",
        "print(\"Number of correct predictions: number of samples\",correct_pred,\":\",total_size)\n",
        "print(\"Accuracy: \",100.0*correct_pred/total_size)"
      ],
      "execution_count": 0,
      "outputs": [
        {
          "output_type": "stream",
          "text": [
            "dict_keys(['outlook', 'temperature', 'humidity', 'wind', 'play'])\n",
            "dict_values(['rainy', 'mild', 'high', 'weak', 'yes'])\n",
            "outlook play: no\n",
            "temperature play: no\n",
            "humidity play: no\n",
            "wind play: no\n",
            "['no']\n",
            "[4.0]\n",
            "dict_keys(['outlook', 'temperature', 'humidity', 'wind', 'play'])\n",
            "dict_values(['rainy', 'mild', 'high', 'weak', 'yes'])\n",
            "outlook play: yes\n",
            "temperature play: yes\n",
            "humidity play: yes\n",
            "wind play: yes\n",
            "['no', 'yes']\n",
            "[4.0, 7.0]\n",
            "yes :::: yes\n",
            "yes :::: yes\n",
            "posteriori of yes  is: 7.0\n",
            "dict_keys(['outlook', 'temperature', 'humidity', 'wind', 'play'])\n",
            "dict_values(['sunny', 'cool', 'normal', 'weak', 'yes'])\n",
            "outlook play: no\n",
            "temperature play: no\n",
            "humidity play: no\n",
            "wind play: no\n",
            "['no']\n",
            "[4.0]\n",
            "dict_keys(['outlook', 'temperature', 'humidity', 'wind', 'play'])\n",
            "dict_values(['sunny', 'cool', 'normal', 'weak', 'yes'])\n",
            "outlook play: yes\n",
            "temperature play: yes\n",
            "humidity play: yes\n",
            "wind play: yes\n",
            "['no', 'yes']\n",
            "[4.0, 7.0]\n",
            "yes :::: yes\n",
            "yes :::: yes\n",
            "posteriori of yes  is: 7.0\n",
            "dict_keys(['outlook', 'temperature', 'humidity', 'wind', 'play'])\n",
            "dict_values(['rainy', 'mild', 'high', 'strong', 'no'])\n",
            "outlook play: no\n",
            "temperature play: no\n",
            "humidity play: no\n",
            "wind play: no\n",
            "['no']\n",
            "[4.0]\n",
            "dict_keys(['outlook', 'temperature', 'humidity', 'wind', 'play'])\n",
            "dict_values(['rainy', 'mild', 'high', 'strong', 'no'])\n",
            "outlook play: yes\n",
            "temperature play: yes\n",
            "humidity play: yes\n",
            "wind play: yes\n",
            "['no', 'yes']\n",
            "[4.0, 7.0]\n",
            "no :::: yes\n",
            "Number of correct predictions: number of samples 2 : 3\n",
            "Accuracy:  66.66666666666667\n"
          ],
          "name": "stdout"
        }
      ]
    },
    {
      "cell_type": "code",
      "metadata": {
        "id": "6pxhs4xhjluM",
        "colab_type": "code",
        "colab": {}
      },
      "source": [
        ""
      ],
      "execution_count": 0,
      "outputs": []
    }
  ]
}