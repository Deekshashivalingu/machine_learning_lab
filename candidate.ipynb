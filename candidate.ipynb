{
  "nbformat": 4,
  "nbformat_minor": 0,
  "metadata": {
    "colab": {
      "name": "candidate.ipynb",
      "provenance": [],
      "collapsed_sections": []
    },
    "kernelspec": {
      "name": "python3",
      "display_name": "Python 3"
    }
  },
  "cells": [
    {
      "cell_type": "code",
      "metadata": {
        "id": "RKhcnjMLe0lM",
        "colab_type": "code",
        "colab": {}
      },
      "source": [
        "import random\n",
        "import csv\n",
        "\n",
        "def g_0(n):\n",
        "  return (\"?\",)*n\n",
        "\n",
        "def s_0(n):\n",
        "  return ('0',)*n"
      ],
      "execution_count": 0,
      "outputs": []
    },
    {
      "cell_type": "code",
      "metadata": {
        "id": "YBDUNEdEldc_",
        "colab_type": "code",
        "outputId": "92a75ffe-803d-4e3d-de7e-fd3adb3490fa",
        "colab": {
          "base_uri": "https://localhost:8080/",
          "height": 34
        }
      },
      "source": [
        "s_0(5)"
      ],
      "execution_count": 0,
      "outputs": [
        {
          "output_type": "execute_result",
          "data": {
            "text/plain": [
              "('0', '0', '0', '0', '0')"
            ]
          },
          "metadata": {
            "tags": []
          },
          "execution_count": 37
        }
      ]
    },
    {
      "cell_type": "code",
      "metadata": {
        "id": "AsYJDJ9tljJ-",
        "colab_type": "code",
        "outputId": "6255aaa4-a95c-45b7-95f5-4507ccfd11b6",
        "colab": {
          "base_uri": "https://localhost:8080/",
          "height": 34
        }
      },
      "source": [
        "g_0(5)"
      ],
      "execution_count": 0,
      "outputs": [
        {
          "output_type": "execute_result",
          "data": {
            "text/plain": [
              "('?', '?', '?', '?', '?')"
            ]
          },
          "metadata": {
            "tags": []
          },
          "execution_count": 38
        }
      ]
    },
    {
      "cell_type": "code",
      "metadata": {
        "id": "NCfWlWsXlvH_",
        "colab_type": "code",
        "colab": {}
      },
      "source": [
        "def more_general(h1,h2):      #hypothesis\n",
        "  more_general_parts=[]       #empty list\n",
        "  for x, y in zip(h1,h2):\n",
        "    mg = x == \"?\" or (x != \"0\" and (x == y or y == \"0\"))  #most generl\n",
        "    more_general_parts.append(mg)\n",
        "  return all(more_general_parts)\n",
        "\n",
        "#l1=[1,2,3]\n",
        "#l2=[3,4,5]\n",
        "\n",
        "#list(zip(l1,l2))"
      ],
      "execution_count": 0,
      "outputs": []
    },
    {
      "cell_type": "code",
      "metadata": {
        "id": "LUmaNb1-mXPf",
        "colab_type": "code",
        "colab": {}
      },
      "source": [
        "#min generalisations\n",
        "def fulfills(example,hypothesis):\n",
        "  #the implementation is the same as for hypothesis\n",
        "  return more_general(hypothesis,example)\n",
        "\n",
        "def min_generalizations(h,x):\n",
        "  h_new=list(h)\n",
        "  for i in range(len(h)):\n",
        "    if not fulfills(x[i:i+1], h[i:i+1]):\n",
        "      h_new[i]='?' if h[i]!='0' else x[i]\n",
        "  return [tuple(h_new)]"
      ],
      "execution_count": 0,
      "outputs": []
    },
    {
      "cell_type": "code",
      "metadata": {
        "id": "-1jJFszdpBas",
        "colab_type": "code",
        "outputId": "9353d5f9-02c1-4aba-ff43-730fc9496026",
        "colab": {
          "base_uri": "https://localhost:8080/",
          "height": 34
        }
      },
      "source": [
        "min_generalizations(h=('0','0','sunny'),\n",
        "                    x=('rainy','windy','cloudy'))"
      ],
      "execution_count": 0,
      "outputs": [
        {
          "output_type": "execute_result",
          "data": {
            "text/plain": [
              "[('rainy', 'windy', '?')]"
            ]
          },
          "metadata": {
            "tags": []
          },
          "execution_count": 41
        }
      ]
    },
    {
      "cell_type": "code",
      "metadata": {
        "id": "4YD_b0-dpTVR",
        "colab_type": "code",
        "colab": {}
      },
      "source": [
        "def min_specializations(h,domains,x):\n",
        "  results=[]\n",
        "  for i in range(len(h)):\n",
        "    if h[i] == \"?\":\n",
        "      for val in domains[i]:\n",
        "        if x[i]!=val:\n",
        "          h_new=h[:i]+(val,)+h[i+1:]\n",
        "          results.append(h_new)\n",
        "    elif h[i]!=\"0\":\n",
        "          h_new=h[:i]+('0',)+h[i+1:]\n",
        "          results.append(h_new)\n",
        "  return results"
      ],
      "execution_count": 0,
      "outputs": []
    },
    {
      "cell_type": "code",
      "metadata": {
        "id": "W8RjllPWRmlN",
        "colab_type": "code",
        "outputId": "bca7cab2-d835-4967-bcff-157b25a4a453",
        "colab": {
          "base_uri": "https://localhost:8080/",
          "height": 34
        }
      },
      "source": [
        "min_specializations(h=('?','x',),\n",
        "                   domains=[['a','b','c'],['x','y']],\n",
        "                   x=('b','x'))"
      ],
      "execution_count": 0,
      "outputs": [
        {
          "output_type": "execute_result",
          "data": {
            "text/plain": [
              "[('a', 'x'), ('c', 'x'), ('?', '0')]"
            ]
          },
          "metadata": {
            "tags": []
          },
          "execution_count": 43
        }
      ]
    },
    {
      "cell_type": "code",
      "metadata": {
        "id": "grxX9lecTnmU",
        "colab_type": "code",
        "colab": {}
      },
      "source": [
        "with open(r'/findss.csv')  as csvFile:\n",
        "        examples = [tuple(line) for line in csv.reader(csvFile)]"
      ],
      "execution_count": 0,
      "outputs": []
    },
    {
      "cell_type": "code",
      "metadata": {
        "id": "Z1lV3ANAT2zk",
        "colab_type": "code",
        "outputId": "5ddfacde-3645-472c-d9cb-e00953db8bd8",
        "colab": {
          "base_uri": "https://localhost:8080/",
          "height": 102
        }
      },
      "source": [
        "examples\n"
      ],
      "execution_count": 0,
      "outputs": [
        {
          "output_type": "execute_result",
          "data": {
            "text/plain": [
              "[('Sky', 'Airtemp', 'Humidity', 'Wind', 'Water', 'Forecast', 'WaterSport'),\n",
              " ('Sunny', 'Warm', 'Normal', 'Strong', 'Warm', 'Same', 'Yes'),\n",
              " ('Sunny', 'Warm', 'High', 'Strong', 'Warm', 'Same', 'Yes'),\n",
              " ('Cloudy', 'Cold', 'High', 'Strong', 'Warm', 'Same', 'No'),\n",
              " ('Sunny', 'Cold', 'High', 'Strong', 'Cold', 'Change', 'Yes')]"
            ]
          },
          "metadata": {
            "tags": []
          },
          "execution_count": 45
        }
      ]
    },
    {
      "cell_type": "code",
      "metadata": {
        "id": "VY3GSqbCT_bs",
        "colab_type": "code",
        "outputId": "b5375fc9-735b-45d7-b15c-efe9752d623a",
        "colab": {
          "base_uri": "https://localhost:8080/",
          "height": 136
        }
      },
      "source": [
        "def get_domains(examples):\n",
        "    d = [set() for i in examples[0]]\n",
        "    for x in examples:\n",
        "        for i, xi in enumerate(x):\n",
        "            d[i].add(xi)\n",
        "    return [list(sorted(x)) for x in d]\n",
        "\n",
        "get_domains(examples)"
      ],
      "execution_count": 0,
      "outputs": [
        {
          "output_type": "execute_result",
          "data": {
            "text/plain": [
              "[['Cloudy', 'Sky', 'Sunny'],\n",
              " ['Airtemp', 'Cold', 'Warm'],\n",
              " ['High', 'Humidity', 'Normal'],\n",
              " ['Strong', 'Wind'],\n",
              " ['Cold', 'Warm', 'Water'],\n",
              " ['Change', 'Forecast', 'Same'],\n",
              " ['No', 'WaterSport', 'Yes']]"
            ]
          },
          "metadata": {
            "tags": []
          },
          "execution_count": 46
        }
      ]
    },
    {
      "cell_type": "code",
      "metadata": {
        "id": "x9LH8y08UEVc",
        "colab_type": "code",
        "colab": {}
      },
      "source": [
        "def candidate_elimination(examples):\n",
        "    domains = get_domains(examples)[:-1]\n",
        "    \n",
        "    G = set([g_0(len(domains))])\n",
        "    S = set([s_0(len(domains))])\n",
        "    i=0\n",
        "    print(\"\\n G[{0}]:\".format(i),G)\n",
        "    print(\"\\n S[{0}]:\".format(i),S)\n",
        "    for xcx in examples:\n",
        "        i=i+1\n",
        "        x, cx = xcx[:-1], xcx[-1]  # Splitting data into attributes and decisions\n",
        "        if cx=='Y':                # x is positive example\n",
        "            G = {g for g in G if fulfills(x, g)}\n",
        "            S = generalize_S(x, G, S)\n",
        "        else:                      # x is negative example\n",
        "            S = {s for s in S if not fulfills(x, s)}\n",
        "            G = specialize_G(x, domains, G, S)\n",
        "        print(\"\\n G[{0}]:\".format(i),G)\n",
        "        print(\"\\n S[{0}]:\".format(i),S)\n",
        "    return"
      ],
      "execution_count": 0,
      "outputs": []
    },
    {
      "cell_type": "code",
      "metadata": {
        "id": "8YlINgXUUMbc",
        "colab_type": "code",
        "colab": {}
      },
      "source": [
        "def generalize_S(x, G, S):\n",
        "    S_prev = list(S)\n",
        "    for s in S_prev:\n",
        "        if s not in S:\n",
        "            continue\n",
        "        if not fulfills(x, s):\n",
        "            S.remove(s)\n",
        "            Splus = min_generalizations(s, x)\n",
        "                                          ## keep only generalizations that have a counterpart in G\n",
        "            S.update([h for h in Splus if any([more_general(g,h) \n",
        "                                               for g in G])])\n",
        "                                          ## remove hypotheses less specific than any other in S\n",
        "            S.difference_update([h for h in S if \n",
        "                                 any([more_general(h, h1) \n",
        "                                      for h1 in S if h != h1])])\n",
        "    return S"
      ],
      "execution_count": 0,
      "outputs": []
    },
    {
      "cell_type": "code",
      "metadata": {
        "id": "whOk_8ufURis",
        "colab_type": "code",
        "colab": {}
      },
      "source": [
        "def specialize_G(x, domains, G, S):\n",
        "    G_prev = list(G)\n",
        "    for g in G_prev:\n",
        "        if g not in G:\n",
        "            continue\n",
        "        if fulfills(x, g):\n",
        "            G.remove(g)\n",
        "            Gminus = min_specializations(g, domains, x)\n",
        "                                ## keep only specializations that have a conuterpart in S\n",
        "            G.update([h for h in Gminus if any([more_general(h, s)\n",
        "                                                for s in S])])\n",
        "                                ## remove hypotheses less general than any other in G\n",
        "            G.difference_update([h for h in G if \n",
        "                                 any([more_general(g1, h) \n",
        "                                      for g1 in G if h != g1])])\n",
        "    return G\n",
        "\n"
      ],
      "execution_count": 0,
      "outputs": []
    },
    {
      "cell_type": "code",
      "metadata": {
        "id": "1V9uW_pEUWBc",
        "colab_type": "code",
        "outputId": "9d545882-03a4-46d0-d162-2482a0aa6f22",
        "colab": {
          "base_uri": "https://localhost:8080/",
          "height": 445
        }
      },
      "source": [
        "candidate_elimination(examples)"
      ],
      "execution_count": 0,
      "outputs": [
        {
          "output_type": "stream",
          "text": [
            "\n",
            " G[0]: {('?', '?', '?', '?', '?', '?')}\n",
            "\n",
            " S[0]: {('0', '0', '0', '0', '0', '0')}\n",
            "\n",
            " G[1]: {('?', '?', 'Normal', '?', '?', '?'), ('?', '?', '?', '?', '?', 'Change'), ('Sunny', '?', '?', '?', '?', '?'), ('?', 'Cold', '?', '?', '?', '?'), ('?', 'Warm', '?', '?', '?', '?'), ('?', '?', '?', 'Strong', '?', '?'), ('?', '?', '?', '?', 'Cold', '?'), ('?', '?', '?', '?', 'Warm', '?'), ('?', '?', 'High', '?', '?', '?'), ('Cloudy', '?', '?', '?', '?', '?'), ('?', '?', '?', '?', '?', 'Same')}\n",
            "\n",
            " S[1]: {('0', '0', '0', '0', '0', '0')}\n",
            "\n",
            " G[2]: {('?', '?', 'Normal', '?', '?', 'Forecast'), ('Sky', 'Warm', '?', '?', '?', '?'), ('?', '?', '?', 'Strong', '?', 'Forecast'), ('Sunny', '?', '?', '?', '?', 'Forecast'), ('Cloudy', '?', '?', '?', '?', '?'), ('?', 'Warm', 'Humidity', '?', '?', '?'), ('?', '?', 'Normal', 'Wind', '?', '?'), ('?', '?', '?', '?', 'Cold', '?'), ('?', 'Warm', '?', '?', 'Water', '?'), ('Sunny', '?', '?', 'Wind', '?', '?'), ('?', '?', '?', 'Wind', '?', 'Same'), ('Sky', '?', '?', '?', '?', 'Same'), ('?', '?', 'Humidity', 'Strong', '?', '?'), ('?', '?', 'Humidity', '?', 'Warm', '?'), ('Sunny', 'Airtemp', '?', '?', '?', '?'), ('?', '?', '?', 'Strong', 'Water', '?'), ('?', 'Warm', '?', 'Wind', '?', '?'), ('Sky', '?', 'Normal', '?', '?', '?'), ('Sunny', '?', '?', '?', 'Water', '?'), ('?', 'Warm', '?', '?', '?', 'Forecast'), ('Sky', '?', '?', 'Strong', '?', '?'), ('?', '?', '?', '?', '?', 'Change'), ('?', '?', '?', 'Wind', 'Warm', '?'), ('?', '?', 'Normal', '?', 'Water', '?'), ('?', 'Airtemp', '?', '?', '?', 'Same'), ('?', 'Cold', '?', '?', '?', '?'), ('?', 'Airtemp', '?', '?', 'Warm', '?'), ('?', '?', '?', '?', 'Warm', 'Forecast'), ('?', '?', 'High', '?', '?', '?'), ('Sunny', '?', 'Humidity', '?', '?', '?'), ('Sky', '?', '?', '?', 'Warm', '?'), ('?', '?', '?', '?', 'Water', 'Same'), ('?', 'Airtemp', 'Normal', '?', '?', '?'), ('?', 'Airtemp', '?', 'Strong', '?', '?'), ('?', '?', 'Humidity', '?', '?', 'Same')}\n",
            "\n",
            " S[2]: {('0', '0', '0', '0', '0', '0')}\n",
            "\n",
            " G[3]: {('?', '?', 'Normal', '?', '?', 'Forecast'), ('Sky', 'Warm', '?', '?', '?', '?'), ('?', '?', '?', 'Strong', '?', 'Forecast'), ('Sky', '?', 'High', '?', '?', '?'), ('Sunny', '?', '?', '?', '?', 'Forecast'), ('Cloudy', '?', '?', '?', '?', '?'), ('?', 'Warm', 'Humidity', '?', '?', '?'), ('?', '?', 'Normal', 'Wind', '?', '?'), ('?', '?', '?', '?', 'Cold', '?'), ('?', 'Warm', '?', '?', 'Water', '?'), ('Sunny', '?', '?', 'Wind', '?', '?'), ('?', '?', 'High', '?', 'Water', '?'), ('?', '?', '?', 'Wind', '?', 'Same'), ('Sky', '?', '?', '?', '?', 'Same'), ('?', '?', 'Humidity', 'Strong', '?', '?'), ('?', '?', 'Humidity', '?', 'Warm', '?'), ('?', 'Airtemp', 'High', '?', '?', '?'), ('Sunny', 'Airtemp', '?', '?', '?', '?'), ('?', '?', '?', 'Strong', 'Water', '?'), ('?', 'Warm', '?', 'Wind', '?', '?'), ('Sky', '?', 'Normal', '?', '?', '?'), ('Sunny', '?', '?', '?', 'Water', '?'), ('?', '?', 'High', 'Wind', '?', '?'), ('?', 'Warm', '?', '?', '?', 'Forecast'), ('Sky', '?', '?', 'Strong', '?', '?'), ('?', '?', 'High', '?', '?', 'Forecast'), ('?', '?', '?', '?', '?', 'Change'), ('?', '?', '?', 'Wind', 'Warm', '?'), ('?', '?', 'Normal', '?', 'Water', '?'), ('?', 'Airtemp', '?', '?', '?', 'Same'), ('?', 'Cold', '?', '?', '?', '?'), ('?', 'Airtemp', '?', '?', 'Warm', '?'), ('?', '?', '?', '?', 'Warm', 'Forecast'), ('Sunny', '?', 'Humidity', '?', '?', '?'), ('Sky', '?', '?', '?', 'Warm', '?'), ('?', '?', '?', '?', 'Water', 'Same'), ('?', 'Airtemp', 'Normal', '?', '?', '?'), ('?', 'Airtemp', '?', 'Strong', '?', '?'), ('?', '?', 'Humidity', '?', '?', 'Same')}\n",
            "\n",
            " S[3]: {('0', '0', '0', '0', '0', '0')}\n",
            "\n",
            " G[4]: {('?', '?', 'Normal', '?', '?', 'Forecast'), ('Sky', 'Warm', '?', '?', '?', '?'), ('Cloudy', 'Airtemp', '?', '?', '?', '?'), ('?', '?', '?', 'Strong', '?', 'Forecast'), ('Sky', '?', 'High', '?', '?', '?'), ('Sunny', '?', '?', '?', '?', 'Forecast'), ('?', 'Cold', '?', 'Wind', '?', '?'), ('?', 'Cold', '?', '?', '?', 'Forecast'), ('?', 'Warm', 'Humidity', '?', '?', '?'), ('?', '?', 'Normal', 'Wind', '?', '?'), ('?', '?', '?', '?', 'Cold', '?'), ('?', 'Warm', '?', '?', 'Water', '?'), ('Sunny', '?', '?', 'Wind', '?', '?'), ('?', '?', 'High', '?', 'Water', '?'), ('Sunny', 'Cold', '?', '?', '?', '?'), ('?', '?', '?', 'Wind', '?', 'Same'), ('Sky', '?', '?', '?', '?', 'Same'), ('?', '?', 'Humidity', 'Strong', '?', '?'), ('Cloudy', '?', '?', '?', 'Water', '?'), ('?', '?', 'Humidity', '?', 'Warm', '?'), ('?', 'Airtemp', 'High', '?', '?', '?'), ('Sunny', 'Airtemp', '?', '?', '?', '?'), ('?', '?', '?', 'Strong', 'Water', '?'), ('?', 'Warm', '?', 'Wind', '?', '?'), ('Cloudy', 'Warm', '?', '?', '?', '?'), ('Sky', '?', 'Normal', '?', '?', '?'), ('Sunny', '?', '?', '?', 'Water', '?'), ('?', '?', 'High', 'Wind', '?', '?'), ('Cloudy', '?', 'Humidity', '?', '?', '?'), ('?', 'Warm', '?', '?', '?', 'Forecast'), ('?', 'Cold', 'Humidity', '?', '?', '?'), ('Sky', '?', '?', 'Strong', '?', '?'), ('?', '?', 'High', '?', '?', 'Forecast'), ('?', '?', '?', '?', '?', 'Change'), ('Cloudy', '?', 'Normal', '?', '?', '?'), ('?', 'Cold', 'Normal', '?', '?', '?'), ('?', '?', '?', 'Wind', 'Warm', '?'), ('?', 'Cold', '?', '?', 'Water', '?'), ('?', '?', 'Normal', '?', 'Water', '?'), ('Sky', 'Cold', '?', '?', '?', '?'), ('?', 'Airtemp', '?', '?', '?', 'Same'), ('Cloudy', '?', '?', '?', '?', 'Forecast'), ('?', 'Airtemp', '?', '?', 'Warm', '?'), ('?', '?', '?', '?', 'Warm', 'Forecast'), ('Sunny', '?', 'Humidity', '?', '?', '?'), ('Sky', '?', '?', '?', 'Warm', '?'), ('?', '?', '?', '?', 'Water', 'Same'), ('Cloudy', '?', '?', 'Wind', '?', '?'), ('?', 'Airtemp', 'Normal', '?', '?', '?'), ('?', 'Airtemp', '?', 'Strong', '?', '?'), ('?', '?', 'Humidity', '?', '?', 'Same')}\n",
            "\n",
            " S[4]: {('0', '0', '0', '0', '0', '0')}\n",
            "\n",
            " G[5]: {('?', 'Airtemp', '?', '?', '?', 'Change'), ('?', '?', 'Normal', '?', '?', 'Forecast'), ('Sky', '?', '?', '?', '?', 'Change'), ('Sky', 'Warm', '?', '?', '?', '?'), ('?', 'Warm', '?', '?', 'Cold', '?'), ('Cloudy', 'Airtemp', '?', '?', '?', '?'), ('?', '?', '?', 'Strong', '?', 'Forecast'), ('Sky', '?', 'High', '?', '?', '?'), ('Sunny', '?', '?', '?', '?', 'Forecast'), ('?', 'Cold', '?', 'Wind', '?', '?'), ('?', '?', '?', '?', 'Water', 'Change'), ('Cloudy', '?', '?', '?', 'Cold', '?'), ('?', 'Cold', '?', '?', '?', 'Forecast'), ('?', 'Warm', 'Humidity', '?', '?', '?'), ('?', '?', 'Normal', 'Wind', '?', '?'), ('?', '?', 'Humidity', '?', '?', 'Change'), ('?', 'Warm', '?', '?', 'Water', '?'), ('?', '?', 'Humidity', '?', 'Cold', '?'), ('Sunny', '?', '?', 'Wind', '?', '?'), ('?', '?', 'High', '?', 'Water', '?'), ('Sunny', 'Cold', '?', '?', '?', 'Same'), ('?', '?', 'Normal', '?', '?', 'Change'), ('?', '?', '?', 'Wind', '?', 'Same'), ('Sky', '?', '?', '?', '?', 'Same'), ('?', '?', 'Normal', '?', 'Cold', '?'), ('?', '?', 'Humidity', 'Strong', '?', '?'), ('Cloudy', '?', '?', '?', 'Water', '?'), ('?', '?', 'Humidity', '?', 'Warm', '?'), ('Cloudy', '?', '?', '?', '?', 'Change'), ('?', 'Airtemp', 'High', '?', '?', '?'), ('Sunny', 'Airtemp', '?', '?', '?', '?'), ('?', '?', '?', 'Strong', 'Water', '?'), ('?', 'Warm', '?', 'Wind', '?', '?'), ('Cloudy', 'Warm', '?', '?', '?', '?'), ('?', '?', '?', '?', 'Cold', 'Same'), ('?', '?', '?', 'Wind', 'Cold', '?'), ('Sky', '?', 'Normal', '?', '?', '?'), ('Sunny', '?', '?', '?', 'Water', '?'), ('?', '?', 'High', 'Wind', '?', '?'), ('Cloudy', '?', 'Humidity', '?', '?', '?'), ('?', 'Warm', '?', '?', '?', 'Forecast'), ('?', 'Cold', 'Humidity', '?', '?', '?'), ('Sky', '?', '?', 'Strong', '?', '?'), ('?', '?', 'High', '?', '?', 'Forecast'), ('Cloudy', '?', 'Normal', '?', '?', '?'), ('?', 'Cold', 'Normal', '?', '?', '?'), ('?', '?', '?', 'Wind', 'Warm', '?'), ('?', 'Cold', '?', '?', 'Water', '?'), ('?', '?', '?', '?', 'Cold', 'Forecast'), ('?', '?', '?', 'Wind', '?', 'Change'), ('?', '?', 'Normal', '?', 'Water', '?'), ('Sky', 'Cold', '?', '?', '?', '?'), ('Sky', '?', '?', '?', 'Cold', '?'), ('?', 'Airtemp', '?', '?', '?', 'Same'), ('Cloudy', '?', '?', '?', '?', 'Forecast'), ('?', 'Airtemp', '?', '?', 'Warm', '?'), ('?', '?', '?', '?', 'Warm', 'Forecast'), ('Sunny', '?', 'Humidity', '?', '?', '?'), ('Sky', '?', '?', '?', 'Warm', '?'), ('?', '?', '?', '?', 'Water', 'Same'), ('Cloudy', '?', '?', 'Wind', '?', '?'), ('?', 'Warm', '?', '?', '?', 'Change'), ('?', 'Airtemp', '?', '?', 'Cold', '?'), ('Sunny', 'Cold', '?', '?', 'Warm', '?'), ('?', 'Airtemp', 'Normal', '?', '?', '?'), ('?', 'Airtemp', '?', 'Strong', '?', '?'), ('?', '?', 'Humidity', '?', '?', 'Same'), ('?', '?', '?', '?', 'Warm', 'Change')}\n",
            "\n",
            " S[5]: {('0', '0', '0', '0', '0', '0')}\n"
          ],
          "name": "stdout"
        }
      ]
    }
  ]
}