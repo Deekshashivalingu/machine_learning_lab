{
  "nbformat": 4,
  "nbformat_minor": 0,
  "metadata": {
    "colab": {
      "name": "decisiontree.ipynb",
      "provenance": [],
      "include_colab_link": true
    },
    "kernelspec": {
      "name": "python3",
      "display_name": "Python 3"
    }
  },
  "cells": [
    {
      "cell_type": "markdown",
      "metadata": {
        "id": "view-in-github",
        "colab_type": "text"
      },
      "source": [
        "<a href=\"https://colab.research.google.com/github/Deekshashivalingu/machine_learning_lab/blob/master/decisiontree.ipynb\" target=\"_parent\"><img src=\"https://colab.research.google.com/assets/colab-badge.svg\" alt=\"Open In Colab\"/></a>"
      ]
    },
    {
      "cell_type": "code",
      "metadata": {
        "id": "S_r4YL0yREgE",
        "colab_type": "code",
        "outputId": "0b7a5996-b74f-4260-8522-29563a505d70",
        "colab": {
          "base_uri": "https://localhost:8080/",
          "height": 483
        }
      },
      "source": [
        "import pandas as pd\n",
        "df_Tennis = pd.read_csv(r\"/weather.csv\")\n",
        "df_Tennis"
      ],
      "execution_count": 0,
      "outputs": [
        {
          "output_type": "execute_result",
          "data": {
            "text/html": [
              "<div>\n",
              "<style scoped>\n",
              "    .dataframe tbody tr th:only-of-type {\n",
              "        vertical-align: middle;\n",
              "    }\n",
              "\n",
              "    .dataframe tbody tr th {\n",
              "        vertical-align: top;\n",
              "    }\n",
              "\n",
              "    .dataframe thead th {\n",
              "        text-align: right;\n",
              "    }\n",
              "</style>\n",
              "<table border=\"1\" class=\"dataframe\">\n",
              "  <thead>\n",
              "    <tr style=\"text-align: right;\">\n",
              "      <th></th>\n",
              "      <th>id</th>\n",
              "      <th>outlook</th>\n",
              "      <th>temperature</th>\n",
              "      <th>humidity</th>\n",
              "      <th>wind</th>\n",
              "      <th>play</th>\n",
              "    </tr>\n",
              "  </thead>\n",
              "  <tbody>\n",
              "    <tr>\n",
              "      <th>0</th>\n",
              "      <td>1</td>\n",
              "      <td>sunny</td>\n",
              "      <td>hot</td>\n",
              "      <td>high</td>\n",
              "      <td>weak</td>\n",
              "      <td>no</td>\n",
              "    </tr>\n",
              "    <tr>\n",
              "      <th>1</th>\n",
              "      <td>2</td>\n",
              "      <td>sunny</td>\n",
              "      <td>hot</td>\n",
              "      <td>high</td>\n",
              "      <td>strong</td>\n",
              "      <td>no</td>\n",
              "    </tr>\n",
              "    <tr>\n",
              "      <th>2</th>\n",
              "      <td>3</td>\n",
              "      <td>overcast</td>\n",
              "      <td>hot</td>\n",
              "      <td>high</td>\n",
              "      <td>weak</td>\n",
              "      <td>yes</td>\n",
              "    </tr>\n",
              "    <tr>\n",
              "      <th>3</th>\n",
              "      <td>4</td>\n",
              "      <td>rainy</td>\n",
              "      <td>mild</td>\n",
              "      <td>high</td>\n",
              "      <td>weak</td>\n",
              "      <td>yes</td>\n",
              "    </tr>\n",
              "    <tr>\n",
              "      <th>4</th>\n",
              "      <td>5</td>\n",
              "      <td>rainy</td>\n",
              "      <td>cool</td>\n",
              "      <td>normal</td>\n",
              "      <td>weak</td>\n",
              "      <td>yes</td>\n",
              "    </tr>\n",
              "    <tr>\n",
              "      <th>5</th>\n",
              "      <td>6</td>\n",
              "      <td>rainy</td>\n",
              "      <td>cool</td>\n",
              "      <td>normal</td>\n",
              "      <td>strong</td>\n",
              "      <td>no</td>\n",
              "    </tr>\n",
              "    <tr>\n",
              "      <th>6</th>\n",
              "      <td>7</td>\n",
              "      <td>overcast</td>\n",
              "      <td>cool</td>\n",
              "      <td>normal</td>\n",
              "      <td>strong</td>\n",
              "      <td>yes</td>\n",
              "    </tr>\n",
              "    <tr>\n",
              "      <th>7</th>\n",
              "      <td>8</td>\n",
              "      <td>sunny</td>\n",
              "      <td>mild</td>\n",
              "      <td>high</td>\n",
              "      <td>weak</td>\n",
              "      <td>no</td>\n",
              "    </tr>\n",
              "    <tr>\n",
              "      <th>8</th>\n",
              "      <td>9</td>\n",
              "      <td>sunny</td>\n",
              "      <td>cool</td>\n",
              "      <td>normal</td>\n",
              "      <td>weak</td>\n",
              "      <td>yes</td>\n",
              "    </tr>\n",
              "    <tr>\n",
              "      <th>9</th>\n",
              "      <td>10</td>\n",
              "      <td>rainy</td>\n",
              "      <td>mild</td>\n",
              "      <td>normal</td>\n",
              "      <td>weak</td>\n",
              "      <td>yes</td>\n",
              "    </tr>\n",
              "    <tr>\n",
              "      <th>10</th>\n",
              "      <td>11</td>\n",
              "      <td>sunny</td>\n",
              "      <td>mild</td>\n",
              "      <td>normal</td>\n",
              "      <td>strong</td>\n",
              "      <td>yes</td>\n",
              "    </tr>\n",
              "    <tr>\n",
              "      <th>11</th>\n",
              "      <td>12</td>\n",
              "      <td>overcast</td>\n",
              "      <td>mild</td>\n",
              "      <td>high</td>\n",
              "      <td>strong</td>\n",
              "      <td>yes</td>\n",
              "    </tr>\n",
              "    <tr>\n",
              "      <th>12</th>\n",
              "      <td>13</td>\n",
              "      <td>overcast</td>\n",
              "      <td>hot</td>\n",
              "      <td>normal</td>\n",
              "      <td>weak</td>\n",
              "      <td>yes</td>\n",
              "    </tr>\n",
              "    <tr>\n",
              "      <th>13</th>\n",
              "      <td>14</td>\n",
              "      <td>rainy</td>\n",
              "      <td>mild</td>\n",
              "      <td>high</td>\n",
              "      <td>strong</td>\n",
              "      <td>no</td>\n",
              "    </tr>\n",
              "  </tbody>\n",
              "</table>\n",
              "</div>"
            ],
            "text/plain": [
              "    id   outlook temperature humidity    wind play\n",
              "0    1     sunny         hot     high    weak   no\n",
              "1    2     sunny         hot     high  strong   no\n",
              "2    3  overcast         hot     high    weak  yes\n",
              "3    4     rainy        mild     high    weak  yes\n",
              "4    5     rainy        cool   normal    weak  yes\n",
              "5    6     rainy        cool   normal  strong   no\n",
              "6    7  overcast        cool   normal  strong  yes\n",
              "7    8     sunny        mild     high    weak   no\n",
              "8    9     sunny        cool   normal    weak  yes\n",
              "9   10     rainy        mild   normal    weak  yes\n",
              "10  11     sunny        mild   normal  strong  yes\n",
              "11  12  overcast        mild     high  strong  yes\n",
              "12  13  overcast         hot   normal    weak  yes\n",
              "13  14     rainy        mild     high  strong   no"
            ]
          },
          "metadata": {
            "tags": []
          },
          "execution_count": 2
        }
      ]
    },
    {
      "cell_type": "code",
      "metadata": {
        "id": "dNBxmt8JUUxq",
        "colab_type": "code",
        "colab": {}
      },
      "source": [
        "def Entropy(probs):\n",
        "  import math\n",
        "  return sum([-prob*math.log(prob,2) for prob in probs])"
      ],
      "execution_count": 0,
      "outputs": []
    },
    {
      "cell_type": "code",
      "metadata": {
        "id": "Hldhi4wLVB8p",
        "colab_type": "code",
        "outputId": "c0097aed-ab09-451a-9e1f-c1e956275fbf",
        "colab": {
          "base_uri": "https://localhost:8080/",
          "height": 51
        }
      },
      "source": [
        "def Entropy_of_list(a_list):\n",
        "  from collections import Counter\n",
        "  cnt=Counter(x for x in a_list)\n",
        "  print(\"No or Yes classes:\",a_list.name,cnt)\n",
        "  num_instances=len(a_list)*1.0\n",
        "  probs=[x/num_instances for x in cnt.values()]\n",
        "  return Entropy(probs).\n",
        "total_entropy=Entropy_of_list(df_Tennis['play'])\n",
        "total_entropy"
      ],
      "execution_count": 0,
      "outputs": [
        {
          "output_type": "stream",
          "text": [
            "No or Yes classes: play Counter({'yes': 9, 'no': 5})\n"
          ],
          "name": "stdout"
        },
        {
          "output_type": "execute_result",
          "data": {
            "text/plain": [
              "0.9402859586706309"
            ]
          },
          "metadata": {
            "tags": []
          },
          "execution_count": 10
        }
      ]
    },
    {
      "cell_type": "code",
      "metadata": {
        "id": "qGCwy5llWvrZ",
        "colab_type": "code",
        "outputId": "fdf4db22-6f7f-484e-8b69-52c160fd2cc8",
        "colab": {
          "base_uri": "https://localhost:8080/",
          "height": 765
        }
      },
      "source": [
        "def information_gain(df,Split_attr_name,target_attr_name):\n",
        "  df_split=df.groupby(Split_attr_name)\n",
        "  for name,group in df_split:\n",
        "      nobs=len(df.index)*1.0\n",
        "      df_aggr_ent = df_split.agg({target_attr_name:[Entropy_of_list,lambda x:len(x)/nobs]})\n",
        "      df_aggr_ent.columns = ['Entropy','propobservations']\n",
        "      new_Entropy = sum(df_aggr_ent['Entropy']*df_aggr_ent['propobservations'])\n",
        "      old_Entropy = Entropy_of_list(df[target_attr_name])\n",
        "  return old_Entropy-new_Entropy\n",
        "print('information gain of outlook is:'+str(information_gain(df_Tennis,'outlook','play')),\"\\n\")\n",
        "print('information gain of temperature is:'+str(information_gain(df_Tennis,'temperature','play')),\"\\n\")\n",
        "print('information gain of humidity is:'+str(information_gain(df_Tennis,'humidity','play')),\"\\n\")\n",
        "print('information gain of wind is:'+str(information_gain(df_Tennis,'wind','play')),\"\\n\")"
      ],
      "execution_count": 0,
      "outputs": [
        {
          "output_type": "stream",
          "text": [
            "No or Yes classes: play Counter({'yes': 4})\n",
            "No or Yes classes: play Counter({'yes': 3, 'no': 2})\n",
            "No or Yes classes: play Counter({'no': 3, 'yes': 2})\n",
            "No or Yes classes: play Counter({'yes': 9, 'no': 5})\n",
            "No or Yes classes: play Counter({'yes': 4})\n",
            "No or Yes classes: play Counter({'yes': 3, 'no': 2})\n",
            "No or Yes classes: play Counter({'no': 3, 'yes': 2})\n",
            "No or Yes classes: play Counter({'yes': 9, 'no': 5})\n",
            "No or Yes classes: play Counter({'yes': 4})\n",
            "No or Yes classes: play Counter({'yes': 3, 'no': 2})\n",
            "No or Yes classes: play Counter({'no': 3, 'yes': 2})\n",
            "No or Yes classes: play Counter({'yes': 9, 'no': 5})\n",
            "information gain of outlook is:0.2467498197744391 \n",
            "\n",
            "No or Yes classes: play Counter({'yes': 3, 'no': 1})\n",
            "No or Yes classes: play Counter({'no': 2, 'yes': 2})\n",
            "No or Yes classes: play Counter({'yes': 4, 'no': 2})\n",
            "No or Yes classes: play Counter({'yes': 9, 'no': 5})\n",
            "No or Yes classes: play Counter({'yes': 3, 'no': 1})\n",
            "No or Yes classes: play Counter({'no': 2, 'yes': 2})\n",
            "No or Yes classes: play Counter({'yes': 4, 'no': 2})\n",
            "No or Yes classes: play Counter({'yes': 9, 'no': 5})\n",
            "No or Yes classes: play Counter({'yes': 3, 'no': 1})\n",
            "No or Yes classes: play Counter({'no': 2, 'yes': 2})\n",
            "No or Yes classes: play Counter({'yes': 4, 'no': 2})\n",
            "No or Yes classes: play Counter({'yes': 9, 'no': 5})\n",
            "information gain of temperature is:0.029222565658954647 \n",
            "\n",
            "No or Yes classes: play Counter({'no': 4, 'yes': 3})\n",
            "No or Yes classes: play Counter({'yes': 6, 'no': 1})\n",
            "No or Yes classes: play Counter({'yes': 9, 'no': 5})\n",
            "No or Yes classes: play Counter({'no': 4, 'yes': 3})\n",
            "No or Yes classes: play Counter({'yes': 6, 'no': 1})\n",
            "No or Yes classes: play Counter({'yes': 9, 'no': 5})\n",
            "information gain of humidity is:0.15183550136234136 \n",
            "\n",
            "No or Yes classes: play Counter({'no': 3, 'yes': 3})\n",
            "No or Yes classes: play Counter({'yes': 6, 'no': 2})\n",
            "No or Yes classes: play Counter({'yes': 9, 'no': 5})\n",
            "No or Yes classes: play Counter({'no': 3, 'yes': 3})\n",
            "No or Yes classes: play Counter({'yes': 6, 'no': 2})\n",
            "No or Yes classes: play Counter({'yes': 9, 'no': 5})\n",
            "information gain of wind is:0.04812703040826927 \n",
            "\n"
          ],
          "name": "stdout"
        }
      ]
    },
    {
      "cell_type": "code",
      "metadata": {
        "id": "vjsoWvfSdGE1",
        "colab_type": "code",
        "colab": {}
      },
      "source": [
        "def id3(df,target_attr_name,attr_name,default_class = None):\n",
        "  from collections import Counter\n",
        "  cnt = Counter(x for x in df[target_attr_name])\n",
        "  if len(cnt) == 1:\n",
        "    return next(iter(cnt))\n",
        "  \n",
        "  elif df.empty or(not attr_name):\n",
        "      return default_class\n",
        "    \n",
        "  else:\n",
        "    gainz = [information_gain(df,attr,target_attr_name) for attr in attr_name]\n",
        "    index_of_max = gainz.index(max(gainz))\n",
        "    best_attr = attr_name[index_of_max]\n",
        "    tree = {best_attr:{}}\n",
        "    remaining_attr = [i for i in attr_name if i!=best_attr]\n",
        "    for attr_val,data_subset in df.groupby(best_attr):\n",
        "      subtree = id3(data_subset,target_attr_name,remaining_attr,default_class)\n",
        "      tree[best_attr][attr_val] = subtree\n",
        "    return tree\n",
        "    "
      ],
      "execution_count": 0,
      "outputs": []
    },
    {
      "cell_type": "code",
      "metadata": {
        "id": "BZqpRNGGh6N7",
        "colab_type": "code",
        "outputId": "5c70bded-8c1e-4e73-ea37-85e30d622184",
        "colab": {
          "base_uri": "https://localhost:8080/",
          "height": 34
        }
      },
      "source": [
        "attr_name= list(df_Tennis.columns)\n",
        "print(attr_name)"
      ],
      "execution_count": 0,
      "outputs": [
        {
          "output_type": "stream",
          "text": [
            "['id', 'outlook', 'temperature', 'humidity', 'wind', 'play']\n"
          ],
          "name": "stdout"
        }
      ]
    },
    {
      "cell_type": "code",
      "metadata": {
        "id": "VeVn8DRri5kK",
        "colab_type": "code",
        "colab": {}
      },
      "source": [
        "attr_name.remove('play')\n",
        "attr_name.remove('id')"
      ],
      "execution_count": 0,
      "outputs": []
    },
    {
      "cell_type": "code",
      "metadata": {
        "id": "nDoExdO-kMqy",
        "colab_type": "code",
        "outputId": "9df3a01c-8b57-4874-f377-ba8aec260818",
        "colab": {
          "base_uri": "https://localhost:8080/",
          "height": 1000
        }
      },
      "source": [
        "from pprint import pprint\n",
        "tree = id3(df_Tennis,'play',attr_name)\n",
        "pprint(tree)"
      ],
      "execution_count": 0,
      "outputs": [
        {
          "output_type": "stream",
          "text": [
            "No or Yes classes: play Counter({'yes': 4})\n",
            "No or Yes classes: play Counter({'yes': 3, 'no': 2})\n",
            "No or Yes classes: play Counter({'no': 3, 'yes': 2})\n",
            "No or Yes classes: play Counter({'yes': 9, 'no': 5})\n",
            "No or Yes classes: play Counter({'yes': 4})\n",
            "No or Yes classes: play Counter({'yes': 3, 'no': 2})\n",
            "No or Yes classes: play Counter({'no': 3, 'yes': 2})\n",
            "No or Yes classes: play Counter({'yes': 9, 'no': 5})\n",
            "No or Yes classes: play Counter({'yes': 4})\n",
            "No or Yes classes: play Counter({'yes': 3, 'no': 2})\n",
            "No or Yes classes: play Counter({'no': 3, 'yes': 2})\n",
            "No or Yes classes: play Counter({'yes': 9, 'no': 5})\n",
            "No or Yes classes: play Counter({'yes': 3, 'no': 1})\n",
            "No or Yes classes: play Counter({'no': 2, 'yes': 2})\n",
            "No or Yes classes: play Counter({'yes': 4, 'no': 2})\n",
            "No or Yes classes: play Counter({'yes': 9, 'no': 5})\n",
            "No or Yes classes: play Counter({'yes': 3, 'no': 1})\n",
            "No or Yes classes: play Counter({'no': 2, 'yes': 2})\n",
            "No or Yes classes: play Counter({'yes': 4, 'no': 2})\n",
            "No or Yes classes: play Counter({'yes': 9, 'no': 5})\n",
            "No or Yes classes: play Counter({'yes': 3, 'no': 1})\n",
            "No or Yes classes: play Counter({'no': 2, 'yes': 2})\n",
            "No or Yes classes: play Counter({'yes': 4, 'no': 2})\n",
            "No or Yes classes: play Counter({'yes': 9, 'no': 5})\n",
            "No or Yes classes: play Counter({'no': 4, 'yes': 3})\n",
            "No or Yes classes: play Counter({'yes': 6, 'no': 1})\n",
            "No or Yes classes: play Counter({'yes': 9, 'no': 5})\n",
            "No or Yes classes: play Counter({'no': 4, 'yes': 3})\n",
            "No or Yes classes: play Counter({'yes': 6, 'no': 1})\n",
            "No or Yes classes: play Counter({'yes': 9, 'no': 5})\n",
            "No or Yes classes: play Counter({'no': 3, 'yes': 3})\n",
            "No or Yes classes: play Counter({'yes': 6, 'no': 2})\n",
            "No or Yes classes: play Counter({'yes': 9, 'no': 5})\n",
            "No or Yes classes: play Counter({'no': 3, 'yes': 3})\n",
            "No or Yes classes: play Counter({'yes': 6, 'no': 2})\n",
            "No or Yes classes: play Counter({'yes': 9, 'no': 5})\n",
            "No or Yes classes: play Counter({'yes': 1, 'no': 1})\n",
            "No or Yes classes: play Counter({'yes': 2, 'no': 1})\n",
            "No or Yes classes: play Counter({'yes': 3, 'no': 2})\n",
            "No or Yes classes: play Counter({'yes': 1, 'no': 1})\n",
            "No or Yes classes: play Counter({'yes': 2, 'no': 1})\n",
            "No or Yes classes: play Counter({'yes': 3, 'no': 2})\n",
            "No or Yes classes: play Counter({'yes': 1, 'no': 1})\n",
            "No or Yes classes: play Counter({'yes': 2, 'no': 1})\n",
            "No or Yes classes: play Counter({'yes': 3, 'no': 2})\n",
            "No or Yes classes: play Counter({'yes': 1, 'no': 1})\n",
            "No or Yes classes: play Counter({'yes': 2, 'no': 1})\n",
            "No or Yes classes: play Counter({'yes': 3, 'no': 2})\n",
            "No or Yes classes: play Counter({'no': 2})\n",
            "No or Yes classes: play Counter({'yes': 3})\n",
            "No or Yes classes: play Counter({'yes': 3, 'no': 2})\n",
            "No or Yes classes: play Counter({'no': 2})\n",
            "No or Yes classes: play Counter({'yes': 3})\n",
            "No or Yes classes: play Counter({'yes': 3, 'no': 2})\n",
            "No or Yes classes: play Counter({'yes': 1})\n",
            "No or Yes classes: play Counter({'no': 2})\n",
            "No or Yes classes: play Counter({'no': 1, 'yes': 1})\n",
            "No or Yes classes: play Counter({'no': 3, 'yes': 2})\n",
            "No or Yes classes: play Counter({'yes': 1})\n",
            "No or Yes classes: play Counter({'no': 2})\n",
            "No or Yes classes: play Counter({'no': 1, 'yes': 1})\n",
            "No or Yes classes: play Counter({'no': 3, 'yes': 2})\n",
            "No or Yes classes: play Counter({'yes': 1})\n",
            "No or Yes classes: play Counter({'no': 2})\n",
            "No or Yes classes: play Counter({'no': 1, 'yes': 1})\n",
            "No or Yes classes: play Counter({'no': 3, 'yes': 2})\n",
            "No or Yes classes: play Counter({'no': 3})\n",
            "No or Yes classes: play Counter({'yes': 2})\n",
            "No or Yes classes: play Counter({'no': 3, 'yes': 2})\n",
            "No or Yes classes: play Counter({'no': 3})\n",
            "No or Yes classes: play Counter({'yes': 2})\n",
            "No or Yes classes: play Counter({'no': 3, 'yes': 2})\n",
            "No or Yes classes: play Counter({'no': 1, 'yes': 1})\n",
            "No or Yes classes: play Counter({'no': 2, 'yes': 1})\n",
            "No or Yes classes: play Counter({'no': 3, 'yes': 2})\n",
            "No or Yes classes: play Counter({'no': 1, 'yes': 1})\n",
            "No or Yes classes: play Counter({'no': 2, 'yes': 1})\n",
            "No or Yes classes: play Counter({'no': 3, 'yes': 2})\n",
            "{'outlook': {'overcast': 'yes',\n",
            "             'rainy': {'wind': {'strong': 'no', 'weak': 'yes'}},\n",
            "             'sunny': {'humidity': {'high': 'no', 'normal': 'yes'}}}}\n"
          ],
          "name": "stdout"
        }
      ]
    }
  ]
}