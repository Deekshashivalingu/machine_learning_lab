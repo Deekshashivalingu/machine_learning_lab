{
  "nbformat": 4,
  "nbformat_minor": 0,
  "metadata": {
    "colab": {
      "name": "Copy of kmeans.ipynb",
      "provenance": []
    },
    "kernelspec": {
      "name": "python3",
      "display_name": "Python 3"
    }
  },
  "cells": [
    {
      "cell_type": "code",
      "metadata": {
        "id": "_akblCmeBHQ7",
        "colab_type": "code",
        "colab": {}
      },
      "source": [
        "# -----Kmeans----\n",
        "from sklearn import datasets\n",
        "from sklearn import metrics\n",
        "from sklearn.cluster import KMeans\n",
        "from sklearn.model_selection import train_test_split"
      ],
      "execution_count": 0,
      "outputs": []
    },
    {
      "cell_type": "code",
      "metadata": {
        "id": "uzRiAeDZBVKy",
        "colab_type": "code",
        "outputId": "f1978414-0aa0-436c-9fcd-7921c6eb8368",
        "colab": {
          "base_uri": "https://localhost:8080/",
          "height": 35
        }
      },
      "source": [
        "iris = datasets.load_iris()\n",
        "X_train,X_test,y_train,y_test = train_test_split(iris.data,iris.target)\n",
        "model =KMeans(n_clusters=3)\n",
        "model.fit(X_train,y_train)\n",
        "metrics.accuracy_score(y_test,model.predict(X_test))"
      ],
      "execution_count": 0,
      "outputs": [
        {
          "output_type": "execute_result",
          "data": {
            "text/plain": [
              "0.21052631578947367"
            ]
          },
          "metadata": {
            "tags": []
          },
          "execution_count": 11
        }
      ]
    },
    {
      "cell_type": "code",
      "metadata": {
        "id": "2nAyecL8BYw6",
        "colab_type": "code",
        "outputId": "f44a93a6-4826-4350-f728-a0b5b3ebaaf4",
        "colab": {
          "base_uri": "https://localhost:8080/",
          "height": 35
        }
      },
      "source": [
        "#-------Expectation and Maximization----------\n",
        "from sklearn.mixture import GaussianMixture\n",
        "model2 = GaussianMixture(n_components=3)\n",
        "model2.fit(X_train,y_train)\n",
        "model2.score\n",
        "metrics.accuracy_score(y_test,model2.predict(X_test))"
      ],
      "execution_count": 0,
      "outputs": [
        {
          "output_type": "execute_result",
          "data": {
            "text/plain": [
              "0.42105263157894735"
            ]
          },
          "metadata": {
            "tags": []
          },
          "execution_count": 12
        }
      ]
    }
  ]
}